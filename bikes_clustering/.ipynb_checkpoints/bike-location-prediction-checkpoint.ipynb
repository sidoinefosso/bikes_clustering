{
 "cells": [
  {
   "cell_type": "code",
   "execution_count": 1,
   "metadata": {},
   "outputs": [],
   "source": [
    "# coding: utf-8\n",
    "\n",
    "\"\"\"\n",
    "This file contains the text processing functions such as Tokenizing, StopWords, Stemming ..\n",
    "\"\"\"\n",
    "from __future__ import unicode_literals\n",
    "\n",
    "import os\n",
    "import codecs\n",
    "import pandas as pd\n",
    "import re\n",
    "import numpy as np\n",
    "PATH = os.path.abspath(os.path.join(os.getcwd(), \"..\"))"
   ]
  },
  {
   "cell_type": "code",
   "execution_count": 2,
   "metadata": {},
   "outputs": [
    {
     "data": {
      "text/plain": [
       "'/home/sidoine/OneDrive/projet'"
      ]
     },
     "execution_count": 2,
     "metadata": {},
     "output_type": "execute_result"
    }
   ],
   "source": [
    "PATH"
   ]
  },
  {
   "cell_type": "code",
   "execution_count": 3,
   "metadata": {},
   "outputs": [],
   "source": [
    "# INPUT\n",
    "#root_path = PATH\n",
    "input_data_path = os.path.join(PATH, \"bikes_clustering\", \"datasets\",\"input\", \"Brisbane_CityBike.json\")\n",
    "\n",
    "# OUTPUT\n",
    "\n",
    "output_data_path = os.path.join(PATH, \"bikes_clustering\", \"datasets\",\"output\", \"prediction_location_Brisbane_CityBike.json\")"
   ]
  },
  {
   "cell_type": "code",
   "execution_count": 315,
   "metadata": {
    "scrolled": true
   },
   "outputs": [
    {
     "data": {
      "text/html": [
       "<div>\n",
       "<style>\n",
       "    .dataframe thead tr:only-child th {\n",
       "        text-align: right;\n",
       "    }\n",
       "\n",
       "    .dataframe thead th {\n",
       "        text-align: left;\n",
       "    }\n",
       "\n",
       "    .dataframe tbody tr th {\n",
       "        vertical-align: top;\n",
       "    }\n",
       "</style>\n",
       "<table border=\"1\" class=\"dataframe\">\n",
       "  <thead>\n",
       "    <tr style=\"text-align: right;\">\n",
       "      <th></th>\n",
       "      <th>address</th>\n",
       "      <th>coordinates</th>\n",
       "      <th>id</th>\n",
       "      <th>latitude</th>\n",
       "      <th>longitude</th>\n",
       "      <th>name</th>\n",
       "      <th>position</th>\n",
       "    </tr>\n",
       "  </thead>\n",
       "  <tbody>\n",
       "    <tr>\n",
       "      <th>0</th>\n",
       "      <td>Lower River Tce / Ellis St</td>\n",
       "      <td>NaN</td>\n",
       "      <td>122</td>\n",
       "      <td>-27.4823</td>\n",
       "      <td>153.029</td>\n",
       "      <td>122 - LOWER RIVER TCE / ELLIS ST</td>\n",
       "      <td>NaN</td>\n",
       "    </tr>\n",
       "    <tr>\n",
       "      <th>1</th>\n",
       "      <td>Main St / Darragh St</td>\n",
       "      <td>NaN</td>\n",
       "      <td>91</td>\n",
       "      <td>-27.4706</td>\n",
       "      <td>153.036</td>\n",
       "      <td>91 - MAIN ST / DARRAGH ST</td>\n",
       "      <td>NaN</td>\n",
       "    </tr>\n",
       "    <tr>\n",
       "      <th>2</th>\n",
       "      <td>None</td>\n",
       "      <td>NaN</td>\n",
       "      <td>88</td>\n",
       "      <td>None</td>\n",
       "      <td>153.043</td>\n",
       "      <td>88 - SYDNEY ST FERRY TERMINAL / PARK</td>\n",
       "      <td>NaN</td>\n",
       "    </tr>\n",
       "    <tr>\n",
       "      <th>3</th>\n",
       "      <td>Browne St / James St</td>\n",
       "      <td>NaN</td>\n",
       "      <td>75</td>\n",
       "      <td>-27.4619</td>\n",
       "      <td>153.047</td>\n",
       "      <td>75 - BROWNE ST / JAMES ST</td>\n",
       "      <td>NaN</td>\n",
       "    </tr>\n",
       "    <tr>\n",
       "      <th>4</th>\n",
       "      <td>Kurilpa Point / Montague Rd</td>\n",
       "      <td>NaN</td>\n",
       "      <td>99</td>\n",
       "      <td>-27.4697</td>\n",
       "      <td>153.017</td>\n",
       "      <td>98 - KURILPA POINT / MONTAGUE RD</td>\n",
       "      <td>NaN</td>\n",
       "    </tr>\n",
       "    <tr>\n",
       "      <th>5</th>\n",
       "      <td>Montague Rd / Skinner St</td>\n",
       "      <td>NaN</td>\n",
       "      <td>109</td>\n",
       "      <td>-27.4817</td>\n",
       "      <td>153.004</td>\n",
       "      <td>109 - MONTAGUE RD / SKINNER ST</td>\n",
       "      <td>NaN</td>\n",
       "    </tr>\n",
       "    <tr>\n",
       "      <th>6</th>\n",
       "      <td>Macquarie St / Guyatt Park</td>\n",
       "      <td>NaN</td>\n",
       "      <td>149</td>\n",
       "      <td>-27.4936</td>\n",
       "      <td>153.001</td>\n",
       "      <td>None</td>\n",
       "      <td>NaN</td>\n",
       "    </tr>\n",
       "    <tr>\n",
       "      <th>7</th>\n",
       "      <td>Bi-centennial Bike Way / Lang Pde</td>\n",
       "      <td>NaN</td>\n",
       "      <td>139</td>\n",
       "      <td>-27.4761</td>\n",
       "      <td>153.002</td>\n",
       "      <td>139 - BI-CENTENNIAL BIKE WAY / LANG PDE</td>\n",
       "      <td>NaN</td>\n",
       "    </tr>\n",
       "    <tr>\n",
       "      <th>8</th>\n",
       "      <td>Sir William McGregor Dr / Sir Fred Schonnell</td>\n",
       "      <td>NaN</td>\n",
       "      <td>24</td>\n",
       "      <td>-27.494</td>\n",
       "      <td>153.012</td>\n",
       "      <td>24 - SIR WILLIAM MCGREGOR DR / SIR FRED SCHONNELL</td>\n",
       "      <td>NaN</td>\n",
       "    </tr>\n",
       "    <tr>\n",
       "      <th>9</th>\n",
       "      <td>Vulture St / Tribune St</td>\n",
       "      <td>NaN</td>\n",
       "      <td>117</td>\n",
       "      <td>-27.4822</td>\n",
       "      <td>153.021</td>\n",
       "      <td>117 - VULTURE ST / TRIBUNE ST</td>\n",
       "      <td>NaN</td>\n",
       "    </tr>\n",
       "  </tbody>\n",
       "</table>\n",
       "</div>"
      ],
      "text/plain": [
       "                                        address coordinates   id latitude  \\\n",
       "0                    Lower River Tce / Ellis St         NaN  122 -27.4823   \n",
       "1                          Main St / Darragh St         NaN   91 -27.4706   \n",
       "2                                          None         NaN   88     None   \n",
       "3                          Browne St / James St         NaN   75 -27.4619   \n",
       "4                   Kurilpa Point / Montague Rd         NaN   99 -27.4697   \n",
       "5                      Montague Rd / Skinner St         NaN  109 -27.4817   \n",
       "6                    Macquarie St / Guyatt Park         NaN  149 -27.4936   \n",
       "7             Bi-centennial Bike Way / Lang Pde         NaN  139 -27.4761   \n",
       "8  Sir William McGregor Dr / Sir Fred Schonnell         NaN   24  -27.494   \n",
       "9                       Vulture St / Tribune St         NaN  117 -27.4822   \n",
       "\n",
       "  longitude                                               name position  \n",
       "0   153.029                   122 - LOWER RIVER TCE / ELLIS ST      NaN  \n",
       "1   153.036                          91 - MAIN ST / DARRAGH ST      NaN  \n",
       "2   153.043               88 - SYDNEY ST FERRY TERMINAL / PARK      NaN  \n",
       "3   153.047                          75 - BROWNE ST / JAMES ST      NaN  \n",
       "4   153.017                   98 - KURILPA POINT / MONTAGUE RD      NaN  \n",
       "5   153.004                     109 - MONTAGUE RD / SKINNER ST      NaN  \n",
       "6   153.001                                               None      NaN  \n",
       "7   153.002            139 - BI-CENTENNIAL BIKE WAY / LANG PDE      NaN  \n",
       "8   153.012  24 - SIR WILLIAM MCGREGOR DR / SIR FRED SCHONNELL      NaN  \n",
       "9   153.021                      117 - VULTURE ST / TRIBUNE ST      NaN  "
      ]
     },
     "execution_count": 315,
     "metadata": {},
     "output_type": "execute_result"
    }
   ],
   "source": [
    "# loading data\n",
    "\n",
    "df = pd.read_json(input_data_path)\n",
    "df.head(10)"
   ]
  },
  {
   "cell_type": "code",
   "execution_count": 316,
   "metadata": {},
   "outputs": [
    {
     "data": {
      "text/plain": [
       "(150, 7)"
      ]
     },
     "execution_count": 316,
     "metadata": {},
     "output_type": "execute_result"
    }
   ],
   "source": [
    "df.shape"
   ]
  },
  {
   "cell_type": "code",
   "execution_count": 317,
   "metadata": {
    "scrolled": true
   },
   "outputs": [
    {
     "data": {
      "text/plain": [
       "(148, 7)"
      ]
     },
     "execution_count": 317,
     "metadata": {},
     "output_type": "execute_result"
    }
   ],
   "source": [
    "# cleaning steps #\n",
    "# keeping only rows with coordinates / latitude or longitude not empty value\n",
    "df_1 = df[df.coordinates.notnull() | (df.longitude.notnull() & df.latitude.notnull())]\n",
    "df_1.shape"
   ]
  },
  {
   "cell_type": "code",
   "execution_count": 319,
   "metadata": {},
   "outputs": [
    {
     "data": {
      "text/plain": [
       "(146, 7)"
      ]
     },
     "execution_count": 319,
     "metadata": {},
     "output_type": "execute_result"
    }
   ],
   "source": [
    "# retrieving only Rows with valid float type in fields longitude and latitude\n",
    "# after analysing the data content, we notice the noise value 'not relevant' in longitude and latitudes ==> 2 rows\n",
    "import numpy as np\n",
    "df_1 = df_1[df_1.longitude.apply(lambda x: type(x) in [int, np.int64, float, np.float64])]\n",
    "df_1 = df_1[df_1.latitude.apply(lambda x: type(x) in [int, np.int64, float, np.float64])]\n",
    "df_1.shape"
   ]
  },
  {
   "cell_type": "code",
   "execution_count": 322,
   "metadata": {},
   "outputs": [
    {
     "data": {
      "text/html": [
       "<div>\n",
       "<style>\n",
       "    .dataframe thead tr:only-child th {\n",
       "        text-align: right;\n",
       "    }\n",
       "\n",
       "    .dataframe thead th {\n",
       "        text-align: left;\n",
       "    }\n",
       "\n",
       "    .dataframe tbody tr th {\n",
       "        vertical-align: top;\n",
       "    }\n",
       "</style>\n",
       "<table border=\"1\" class=\"dataframe\">\n",
       "  <thead>\n",
       "    <tr style=\"text-align: right;\">\n",
       "      <th></th>\n",
       "      <th>address</th>\n",
       "      <th>coordinates</th>\n",
       "      <th>id</th>\n",
       "      <th>latitude</th>\n",
       "      <th>longitude</th>\n",
       "      <th>name</th>\n",
       "      <th>position</th>\n",
       "    </tr>\n",
       "  </thead>\n",
       "  <tbody>\n",
       "    <tr>\n",
       "      <th>0</th>\n",
       "      <td>Lower River Tce / Ellis St</td>\n",
       "      <td>NaN</td>\n",
       "      <td>122</td>\n",
       "      <td>-27.482279</td>\n",
       "      <td>153.028723</td>\n",
       "      <td>122 - LOWER RIVER TCE / ELLIS ST</td>\n",
       "      <td>NaN</td>\n",
       "    </tr>\n",
       "    <tr>\n",
       "      <th>1</th>\n",
       "      <td>Main St / Darragh St</td>\n",
       "      <td>NaN</td>\n",
       "      <td>91</td>\n",
       "      <td>-27.470590</td>\n",
       "      <td>153.036046</td>\n",
       "      <td>91 - MAIN ST / DARRAGH ST</td>\n",
       "      <td>NaN</td>\n",
       "    </tr>\n",
       "    <tr>\n",
       "      <th>3</th>\n",
       "      <td>Browne St / James St</td>\n",
       "      <td>NaN</td>\n",
       "      <td>75</td>\n",
       "      <td>-27.461881</td>\n",
       "      <td>153.046986</td>\n",
       "      <td>75 - BROWNE ST / JAMES ST</td>\n",
       "      <td>NaN</td>\n",
       "    </tr>\n",
       "    <tr>\n",
       "      <th>4</th>\n",
       "      <td>Kurilpa Point / Montague Rd</td>\n",
       "      <td>NaN</td>\n",
       "      <td>99</td>\n",
       "      <td>-27.469658</td>\n",
       "      <td>153.016696</td>\n",
       "      <td>98 - KURILPA POINT / MONTAGUE RD</td>\n",
       "      <td>NaN</td>\n",
       "    </tr>\n",
       "    <tr>\n",
       "      <th>5</th>\n",
       "      <td>Montague Rd / Skinner St</td>\n",
       "      <td>NaN</td>\n",
       "      <td>109</td>\n",
       "      <td>-27.481720</td>\n",
       "      <td>153.004360</td>\n",
       "      <td>109 - MONTAGUE RD / SKINNER ST</td>\n",
       "      <td>NaN</td>\n",
       "    </tr>\n",
       "  </tbody>\n",
       "</table>\n",
       "</div>"
      ],
      "text/plain": [
       "                       address coordinates   id   latitude   longitude  \\\n",
       "0   Lower River Tce / Ellis St         NaN  122 -27.482279  153.028723   \n",
       "1         Main St / Darragh St         NaN   91 -27.470590  153.036046   \n",
       "3         Browne St / James St         NaN   75 -27.461881  153.046986   \n",
       "4  Kurilpa Point / Montague Rd         NaN   99 -27.469658  153.016696   \n",
       "5     Montague Rd / Skinner St         NaN  109 -27.481720  153.004360   \n",
       "\n",
       "                               name position  \n",
       "0  122 - LOWER RIVER TCE / ELLIS ST      NaN  \n",
       "1         91 - MAIN ST / DARRAGH ST      NaN  \n",
       "3         75 - BROWNE ST / JAMES ST      NaN  \n",
       "4  98 - KURILPA POINT / MONTAGUE RD      NaN  \n",
       "5    109 - MONTAGUE RD / SKINNER ST      NaN  "
      ]
     },
     "execution_count": 322,
     "metadata": {},
     "output_type": "execute_result"
    }
   ],
   "source": [
    "# Filling the longitude / latitude value with the value in 'coordinates' when exists and are valid\n",
    "### # checking the Nan rows to replace in longitude and latitude when coordinates exists ==> creating first temporary filtrering dataframe\n",
    "tmp_df = df_1[df_1.coordinates.notnull() & (df_1.longitude.isnull() | df_1.latitude.isnull())]\n",
    "\n",
    "df_1.latitude.fillna(tmp_df.coordinates.apply(lambda x : x['latitude']),inplace=True)\n",
    "df_1.longitude.fillna(tmp_df.coordinates.apply(lambda x : x['longitude']),inplace=True)\n",
    "df_1.head()"
   ]
  },
  {
   "cell_type": "code",
   "execution_count": 324,
   "metadata": {},
   "outputs": [
    {
     "data": {
      "text/html": [
       "<div>\n",
       "<style>\n",
       "    .dataframe thead tr:only-child th {\n",
       "        text-align: right;\n",
       "    }\n",
       "\n",
       "    .dataframe thead th {\n",
       "        text-align: left;\n",
       "    }\n",
       "\n",
       "    .dataframe tbody tr th {\n",
       "        vertical-align: top;\n",
       "    }\n",
       "</style>\n",
       "<table border=\"1\" class=\"dataframe\">\n",
       "  <thead>\n",
       "    <tr style=\"text-align: right;\">\n",
       "      <th></th>\n",
       "      <th>address</th>\n",
       "      <th>coordinates</th>\n",
       "      <th>id</th>\n",
       "      <th>latitude</th>\n",
       "      <th>longitude</th>\n",
       "      <th>name</th>\n",
       "      <th>position</th>\n",
       "    </tr>\n",
       "  </thead>\n",
       "  <tbody>\n",
       "    <tr>\n",
       "      <th>0</th>\n",
       "      <td>Lower River Tce / Ellis St</td>\n",
       "      <td>{'latitude': -27.482279, 'longitude': 153.028723}</td>\n",
       "      <td>122</td>\n",
       "      <td>-27.482279</td>\n",
       "      <td>153.028723</td>\n",
       "      <td>122 - LOWER RIVER TCE / ELLIS ST</td>\n",
       "      <td>NaN</td>\n",
       "    </tr>\n",
       "    <tr>\n",
       "      <th>1</th>\n",
       "      <td>Main St / Darragh St</td>\n",
       "      <td>{'latitude': -27.47059, 'longitude': 153.036046}</td>\n",
       "      <td>91</td>\n",
       "      <td>-27.470590</td>\n",
       "      <td>153.036046</td>\n",
       "      <td>91 - MAIN ST / DARRAGH ST</td>\n",
       "      <td>NaN</td>\n",
       "    </tr>\n",
       "    <tr>\n",
       "      <th>3</th>\n",
       "      <td>Browne St / James St</td>\n",
       "      <td>{'latitude': -27.461880999999998, 'longitude':...</td>\n",
       "      <td>75</td>\n",
       "      <td>-27.461881</td>\n",
       "      <td>153.046986</td>\n",
       "      <td>75 - BROWNE ST / JAMES ST</td>\n",
       "      <td>NaN</td>\n",
       "    </tr>\n",
       "    <tr>\n",
       "      <th>4</th>\n",
       "      <td>Kurilpa Point / Montague Rd</td>\n",
       "      <td>{'latitude': -27.469658, 'longitude': 153.016696}</td>\n",
       "      <td>99</td>\n",
       "      <td>-27.469658</td>\n",
       "      <td>153.016696</td>\n",
       "      <td>98 - KURILPA POINT / MONTAGUE RD</td>\n",
       "      <td>NaN</td>\n",
       "    </tr>\n",
       "    <tr>\n",
       "      <th>5</th>\n",
       "      <td>Montague Rd / Skinner St</td>\n",
       "      <td>{'latitude': -27.48172, 'longitude': 153.00436}</td>\n",
       "      <td>109</td>\n",
       "      <td>-27.481720</td>\n",
       "      <td>153.004360</td>\n",
       "      <td>109 - MONTAGUE RD / SKINNER ST</td>\n",
       "      <td>NaN</td>\n",
       "    </tr>\n",
       "  </tbody>\n",
       "</table>\n",
       "</div>"
      ],
      "text/plain": [
       "                       address  \\\n",
       "0   Lower River Tce / Ellis St   \n",
       "1         Main St / Darragh St   \n",
       "3         Browne St / James St   \n",
       "4  Kurilpa Point / Montague Rd   \n",
       "5     Montague Rd / Skinner St   \n",
       "\n",
       "                                         coordinates   id   latitude  \\\n",
       "0  {'latitude': -27.482279, 'longitude': 153.028723}  122 -27.482279   \n",
       "1   {'latitude': -27.47059, 'longitude': 153.036046}   91 -27.470590   \n",
       "3  {'latitude': -27.461880999999998, 'longitude':...   75 -27.461881   \n",
       "4  {'latitude': -27.469658, 'longitude': 153.016696}   99 -27.469658   \n",
       "5    {'latitude': -27.48172, 'longitude': 153.00436}  109 -27.481720   \n",
       "\n",
       "    longitude                              name position  \n",
       "0  153.028723  122 - LOWER RIVER TCE / ELLIS ST      NaN  \n",
       "1  153.036046         91 - MAIN ST / DARRAGH ST      NaN  \n",
       "3  153.046986         75 - BROWNE ST / JAMES ST      NaN  \n",
       "4  153.016696  98 - KURILPA POINT / MONTAGUE RD      NaN  \n",
       "5  153.004360    109 - MONTAGUE RD / SKINNER ST      NaN  "
      ]
     },
     "execution_count": 324,
     "metadata": {},
     "output_type": "execute_result"
    }
   ],
   "source": [
    "## Filling Nan Value with valid value in \"Coordinates\" from 'longitude' and \"latitude\" fields\n",
    "df_1.coordinates.fillna(df_1.apply(lambda x : {'latitude':x['latitude'],'longitude':x['longitude']},axis=1),inplace=True)\n",
    "df_1.head()"
   ]
  },
  {
   "cell_type": "code",
   "execution_count": 325,
   "metadata": {},
   "outputs": [
    {
     "data": {
      "text/plain": [
       "(146, 7)"
      ]
     },
     "execution_count": 325,
     "metadata": {},
     "output_type": "execute_result"
    }
   ],
   "source": [
    "df_1.shape"
   ]
  },
  {
   "cell_type": "code",
   "execution_count": 327,
   "metadata": {
    "scrolled": true
   },
   "outputs": [],
   "source": [
    "## Keeping only Rows with valid float type in Coordinates ==> May be escape if coordinates is not needed for our training steps\n",
    "## hence the df_1 will be sufficient.\n",
    "df_2 = df_1[df_1.coordinates.apply(lambda x: type(x['latitude']) in [int, np.int64, float, np.float64])]\n",
    "df_2 = df_1[df_1.coordinates.apply(lambda x: type(x['longitude']) in [int, np.int64, float, np.float64])]"
   ]
  },
  {
   "cell_type": "code",
   "execution_count": 328,
   "metadata": {},
   "outputs": [
    {
     "data": {
      "text/plain": [
       "(146, 7)"
      ]
     },
     "execution_count": 328,
     "metadata": {},
     "output_type": "execute_result"
    }
   ],
   "source": [
    "df_2.shape"
   ]
  },
  {
   "cell_type": "code",
   "execution_count": 330,
   "metadata": {},
   "outputs": [
    {
     "name": "stdout",
     "output_type": "stream",
     "text": [
      "<class 'pandas.core.frame.DataFrame'>\n",
      "Int64Index: 146 entries, 0 to 149\n",
      "Data columns (total 7 columns):\n",
      "address        146 non-null object\n",
      "coordinates    146 non-null object\n",
      "id             146 non-null int64\n",
      "latitude       146 non-null float64\n",
      "longitude      146 non-null float64\n",
      "name           145 non-null object\n",
      "position       4 non-null object\n",
      "dtypes: float64(2), int64(1), object(4)\n",
      "memory usage: 9.1+ KB\n"
     ]
    }
   ],
   "source": [
    "df_2.info()"
   ]
  },
  {
   "cell_type": "code",
   "execution_count": null,
   "metadata": {},
   "outputs": [],
   "source": []
  }
 ],
 "metadata": {
  "kernelspec": {
   "display_name": "Python 3",
   "language": "python",
   "name": "python3"
  },
  "language_info": {
   "codemirror_mode": {
    "name": "ipython",
    "version": 3
   },
   "file_extension": ".py",
   "mimetype": "text/x-python",
   "name": "python",
   "nbconvert_exporter": "python",
   "pygments_lexer": "ipython3",
   "version": "3.6.3"
  }
 },
 "nbformat": 4,
 "nbformat_minor": 2
}
